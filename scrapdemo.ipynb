{
 "cells": [
  {
   "cell_type": "code",
   "execution_count": 4,
   "metadata": {},
   "outputs": [],
   "source": [
    "import requests\n",
    "import urllib.request\n",
    "import time\n",
    "from bs4 import BeautifulSoup\n",
    "\n"
   ]
  },
  {
   "cell_type": "code",
   "execution_count": 15,
   "metadata": {},
   "outputs": [
    {
     "name": "stdout",
     "output_type": "stream",
     "text": [
      "['\\nError\\n1020\\n'] ['This website is using a security service to protect itself from online attacks.', '\\nCloudflare Ray ID: 6b3ccd38bec9e291\\n•\\nYour IP: 116.73.101.174\\n•\\nPerformance & security by Cloudflare\\n']\n",
      "This website is using a security service to protect itself from online attacks.\n"
     ]
    }
   ],
   "source": [
    "page = requests.get(\n",
    "    \"https://www.webmd.com/drugs/2/drug-57595/paracetamol-oral/details\")\n",
    "soup = BeautifulSoup(page.content, 'html.parser')\n",
    "\n",
    "# Create all_h1_tags as empty list\n",
    "all_h1_tags = []\n",
    "\n",
    "# Set all_h1_tags to all h1 tags of the soup\n",
    "for element in soup.select('h1'):\n",
    "    all_h1_tags.append(element.text)\n",
    "\n",
    "# Create seventh_p_text and set it to 7th p element text of the page\n",
    "text = []\n",
    "for element in soup.select('p'):    \n",
    "    #p_text = soup.select('p').text\n",
    "    text.append(element.text)\n",
    "\n",
    "print(all_h1_tags, text)\n",
    "\n",
    "text_demo = soup.select('p')[0].text\n",
    "print(text_demo)"
   ]
  },
  {
   "cell_type": "code",
   "execution_count": null,
   "metadata": {},
   "outputs": [],
   "source": []
  }
 ],
 "metadata": {
  "interpreter": {
   "hash": "5a996fcd0cc9522c7bd88855cd731912e7060790d2e9e7ea678aa23453df2f15"
  },
  "kernelspec": {
   "display_name": "Python 3.9.0 64-bit",
   "language": "python",
   "name": "python3"
  },
  "language_info": {
   "codemirror_mode": {
    "name": "ipython",
    "version": 3
   },
   "file_extension": ".py",
   "mimetype": "text/x-python",
   "name": "python",
   "nbconvert_exporter": "python",
   "pygments_lexer": "ipython3",
   "version": "3.9.0"
  },
  "orig_nbformat": 4
 },
 "nbformat": 4,
 "nbformat_minor": 2
}
